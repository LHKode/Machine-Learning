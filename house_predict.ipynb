{
 "cells": [
  {
   "cell_type": "code",
   "execution_count": 1,
   "metadata": {},
   "outputs": [],
   "source": [
    "import os\n",
    "import tarfile\n",
    "from six.moves import urllib\n",
    "from sklearn.model_selection import train_test_split\n",
    "import numpy as np\n",
    "from sklearn.preprocessing import OneHotEncoder, OrdinalEncoder"
   ]
  },
  {
   "cell_type": "code",
   "execution_count": 2,
   "metadata": {},
   "outputs": [],
   "source": [
    "DOWNLOAD_ROOT = \"https://raw.githubusercontent.com/ageron/handson-ml2/master/\"\n",
    "HOUSING_PATH = os.path.join(\"datasets\", \"housing\")\n",
    "HOUSING_URL = DOWNLOAD_ROOT + \"datasets/housing/housing.tgz\"\n",
    "\n",
    "def fetch_housing_data(housing_url=HOUSING_URL, housing_path=HOUSING_PATH):\n",
    "    if not os.path.isdir(housing_path):\n",
    "        os.makedirs(housing_path)\n",
    "    tgz_path = os.path.join(housing_path, \"housing.tgz\")\n",
    "    urllib.request.urlretrieve(housing_url, tgz_path)\n",
    "    housing_tgz = tarfile.open(tgz_path)\n",
    "    housing_tgz.extractall(path=housing_path)\n",
    "    housing_tgz.close()"
   ]
  },
  {
   "cell_type": "code",
   "execution_count": 3,
   "metadata": {},
   "outputs": [],
   "source": [
    "fetch_housing_data()"
   ]
  },
  {
   "cell_type": "code",
   "execution_count": 4,
   "metadata": {},
   "outputs": [],
   "source": [
    "import pandas as pd"
   ]
  },
  {
   "cell_type": "code",
   "execution_count": 5,
   "metadata": {
    "scrolled": true
   },
   "outputs": [
    {
     "data": {
      "text/html": [
       "<div>\n",
       "<style scoped>\n",
       "    .dataframe tbody tr th:only-of-type {\n",
       "        vertical-align: middle;\n",
       "    }\n",
       "\n",
       "    .dataframe tbody tr th {\n",
       "        vertical-align: top;\n",
       "    }\n",
       "\n",
       "    .dataframe thead th {\n",
       "        text-align: right;\n",
       "    }\n",
       "</style>\n",
       "<table border=\"1\" class=\"dataframe\">\n",
       "  <thead>\n",
       "    <tr style=\"text-align: right;\">\n",
       "      <th></th>\n",
       "      <th>longitude</th>\n",
       "      <th>latitude</th>\n",
       "      <th>housing_median_age</th>\n",
       "      <th>total_rooms</th>\n",
       "      <th>total_bedrooms</th>\n",
       "      <th>population</th>\n",
       "      <th>households</th>\n",
       "      <th>median_income</th>\n",
       "      <th>median_house_value</th>\n",
       "      <th>ocean_proximity</th>\n",
       "    </tr>\n",
       "  </thead>\n",
       "  <tbody>\n",
       "    <tr>\n",
       "      <th>0</th>\n",
       "      <td>-122.23</td>\n",
       "      <td>37.88</td>\n",
       "      <td>41.0</td>\n",
       "      <td>880.0</td>\n",
       "      <td>129.0</td>\n",
       "      <td>322.0</td>\n",
       "      <td>126.0</td>\n",
       "      <td>8.3252</td>\n",
       "      <td>452600.0</td>\n",
       "      <td>NEAR BAY</td>\n",
       "    </tr>\n",
       "    <tr>\n",
       "      <th>1</th>\n",
       "      <td>-122.22</td>\n",
       "      <td>37.86</td>\n",
       "      <td>21.0</td>\n",
       "      <td>7099.0</td>\n",
       "      <td>1106.0</td>\n",
       "      <td>2401.0</td>\n",
       "      <td>1138.0</td>\n",
       "      <td>8.3014</td>\n",
       "      <td>358500.0</td>\n",
       "      <td>NEAR BAY</td>\n",
       "    </tr>\n",
       "    <tr>\n",
       "      <th>2</th>\n",
       "      <td>-122.24</td>\n",
       "      <td>37.85</td>\n",
       "      <td>52.0</td>\n",
       "      <td>1467.0</td>\n",
       "      <td>190.0</td>\n",
       "      <td>496.0</td>\n",
       "      <td>177.0</td>\n",
       "      <td>7.2574</td>\n",
       "      <td>352100.0</td>\n",
       "      <td>NEAR BAY</td>\n",
       "    </tr>\n",
       "    <tr>\n",
       "      <th>3</th>\n",
       "      <td>-122.25</td>\n",
       "      <td>37.85</td>\n",
       "      <td>52.0</td>\n",
       "      <td>1274.0</td>\n",
       "      <td>235.0</td>\n",
       "      <td>558.0</td>\n",
       "      <td>219.0</td>\n",
       "      <td>5.6431</td>\n",
       "      <td>341300.0</td>\n",
       "      <td>NEAR BAY</td>\n",
       "    </tr>\n",
       "    <tr>\n",
       "      <th>4</th>\n",
       "      <td>-122.25</td>\n",
       "      <td>37.85</td>\n",
       "      <td>52.0</td>\n",
       "      <td>1627.0</td>\n",
       "      <td>280.0</td>\n",
       "      <td>565.0</td>\n",
       "      <td>259.0</td>\n",
       "      <td>3.8462</td>\n",
       "      <td>342200.0</td>\n",
       "      <td>NEAR BAY</td>\n",
       "    </tr>\n",
       "  </tbody>\n",
       "</table>\n",
       "</div>"
      ],
      "text/plain": [
       "   longitude  latitude  housing_median_age  total_rooms  total_bedrooms  \\\n",
       "0    -122.23     37.88                41.0        880.0           129.0   \n",
       "1    -122.22     37.86                21.0       7099.0          1106.0   \n",
       "2    -122.24     37.85                52.0       1467.0           190.0   \n",
       "3    -122.25     37.85                52.0       1274.0           235.0   \n",
       "4    -122.25     37.85                52.0       1627.0           280.0   \n",
       "\n",
       "   population  households  median_income  median_house_value ocean_proximity  \n",
       "0       322.0       126.0         8.3252            452600.0        NEAR BAY  \n",
       "1      2401.0      1138.0         8.3014            358500.0        NEAR BAY  \n",
       "2       496.0       177.0         7.2574            352100.0        NEAR BAY  \n",
       "3       558.0       219.0         5.6431            341300.0        NEAR BAY  \n",
       "4       565.0       259.0         3.8462            342200.0        NEAR BAY  "
      ]
     },
     "execution_count": 5,
     "metadata": {},
     "output_type": "execute_result"
    }
   ],
   "source": [
    "df = pd.read_csv(\"datasets/housing/housing.csv\")\n",
    "df.head()"
   ]
  },
  {
   "cell_type": "code",
   "execution_count": 6,
   "metadata": {
    "scrolled": true
   },
   "outputs": [
    {
     "data": {
      "text/plain": [
       "array(['NEAR BAY', '<1H OCEAN', 'INLAND', 'NEAR OCEAN', 'ISLAND'],\n",
       "      dtype=object)"
      ]
     },
     "execution_count": 6,
     "metadata": {},
     "output_type": "execute_result"
    }
   ],
   "source": [
    "df['ocean_proximity'].unique()"
   ]
  },
  {
   "cell_type": "code",
   "execution_count": 7,
   "metadata": {},
   "outputs": [],
   "source": [
    "from sklearn import preprocessing\n",
    "label = preprocessing.LabelEncoder()\n",
    "label.fit(['NEAR BAY', '<1H OCEAN', 'INLAND', 'NEAR OCEAN', 'ISLAND'])\n",
    "df['ocean_proximity'] = label.transform(df['ocean_proximity'])"
   ]
  },
  {
   "cell_type": "code",
   "execution_count": 8,
   "metadata": {},
   "outputs": [],
   "source": [
    "df_2 = df"
   ]
  },
  {
   "cell_type": "code",
   "execution_count": null,
   "metadata": {},
   "outputs": [],
   "source": [
    "### One hot encode\n",
    "# df_test = pd.concat([df_test,pd.get_dummies(df_test['ocean_proximity'], prefix='ocean_proximity')],axis=1)\n",
    "# df_test = df_test.drop(['ocean_proximity'], axis = 1)\n",
    "# df_test.info()"
   ]
  },
  {
   "cell_type": "code",
   "execution_count": 9,
   "metadata": {
    "scrolled": true
   },
   "outputs": [],
   "source": [
    "median = df_2[\"total_bedrooms\"].median()\n",
    "df_2[\"total_bedrooms\"].fillna(median, inplace = True)"
   ]
  },
  {
   "cell_type": "code",
   "execution_count": null,
   "metadata": {},
   "outputs": [],
   "source": [
    "df_2.shape"
   ]
  },
  {
   "cell_type": "code",
   "execution_count": null,
   "metadata": {},
   "outputs": [],
   "source": [
    "df.describe()"
   ]
  },
  {
   "cell_type": "code",
   "execution_count": null,
   "metadata": {},
   "outputs": [],
   "source": [
    "df_2.shape"
   ]
  },
  {
   "cell_type": "code",
   "execution_count": 10,
   "metadata": {},
   "outputs": [],
   "source": [
    "import matplotlib.pyplot as plt"
   ]
  },
  {
   "cell_type": "code",
   "execution_count": 11,
   "metadata": {},
   "outputs": [],
   "source": [
    "from sklearn.model_selection import train_test_split\n",
    "import math\n",
    "from sklearn.linear_model import LinearRegression\n",
    "from sklearn.metrics import mean_squared_error"
   ]
  },
  {
   "cell_type": "code",
   "execution_count": 12,
   "metadata": {},
   "outputs": [],
   "source": [
    "house = df_2[\"households\"]"
   ]
  },
  {
   "cell_type": "code",
   "execution_count": 13,
   "metadata": {},
   "outputs": [],
   "source": [
    "houssing_median_age = df_2[\"housing_median_age\"]"
   ]
  },
  {
   "cell_type": "code",
   "execution_count": 14,
   "metadata": {},
   "outputs": [],
   "source": [
    "latitude = df_2[\"latitude\"]"
   ]
  },
  {
   "cell_type": "code",
   "execution_count": 15,
   "metadata": {},
   "outputs": [],
   "source": [
    "longitude = df_2[\"longitude\"]"
   ]
  },
  {
   "cell_type": "code",
   "execution_count": 16,
   "metadata": {},
   "outputs": [],
   "source": [
    "median_house_value = df_2[\"median_house_value\"]"
   ]
  },
  {
   "cell_type": "code",
   "execution_count": 17,
   "metadata": {},
   "outputs": [],
   "source": [
    "median_income = df_2[\"median_income\"]"
   ]
  },
  {
   "cell_type": "code",
   "execution_count": 18,
   "metadata": {},
   "outputs": [],
   "source": [
    "population = df_2[\"population\"]"
   ]
  },
  {
   "cell_type": "code",
   "execution_count": 19,
   "metadata": {},
   "outputs": [],
   "source": [
    "total_bedrooms = df_2[\"total_bedrooms\"]"
   ]
  },
  {
   "cell_type": "code",
   "execution_count": 20,
   "metadata": {},
   "outputs": [],
   "source": [
    "total_rooms = df_2[\"total_rooms\"]"
   ]
  },
  {
   "cell_type": "code",
   "execution_count": 21,
   "metadata": {},
   "outputs": [],
   "source": [
    "ocean_proximity = df_2[\"ocean_proximity\"]"
   ]
  },
  {
   "cell_type": "code",
   "execution_count": 21,
   "metadata": {},
   "outputs": [],
   "source": [
    "df_2[\"rooms_per_household\"] = df_2[\"total_rooms\"] / df_2[\"households\"]\n",
    "df_2[\"bedrooms_per_rooms\"] = df_2[\"total_bedrooms\"] / df_2[\"total_rooms\"]\n",
    "df_2[\"population_per_household\"] = df_2[\"population\"] / df_2[\"households\"]"
   ]
  },
  {
   "cell_type": "code",
   "execution_count": 22,
   "metadata": {},
   "outputs": [],
   "source": [
    "rooms_per_household = df_2['rooms_per_household']\n",
    "population_per_household = df_2['population_per_household']\n",
    "bedrooms_per_rooms = df_2['bedrooms_per_rooms']\n",
    "\n",
    "df_2[\"rooms_per_household_log\"] = (rooms_per_household - rooms_per_household.min() + 1).transform(np.log)\n",
    "df_2[\"population_per_household_log\"] = (population_per_household  - population_per_household.min() + 1).transform(np.log)\n",
    "df_2[\"bedrooms_per_rooms_log\"] = (bedrooms_per_rooms   - bedrooms_per_rooms.min() + 1).transform(np.log)\n",
    "\n",
    "df_2 = df_2.drop(['rooms_per_household','population_per_household','bedrooms_per_rooms'], axis =1)\n",
    "\n",
    "df_2[\"total_rooms_log\"] = (total_rooms - total_rooms.min() + 1).transform(np.log)\n",
    "df_2[\"total_bedrooms_log\"] = (total_bedrooms - total_bedrooms.min() + 1).transform(np.log)\n",
    "\n",
    "df_2 = df_2.drop(['total_rooms', 'total_bedrooms'] , axis = 1)\n"
   ]
  },
  {
   "cell_type": "code",
   "execution_count": 24,
   "metadata": {
    "collapsed": true,
    "jupyter": {
     "outputs_hidden": true
    }
   },
   "outputs": [
    {
     "ename": "NameError",
     "evalue": "name 'df_cap' is not defined",
     "output_type": "error",
     "traceback": [
      "\u001b[1;31m---------------------------------------------------------------------------\u001b[0m",
      "\u001b[1;31mNameError\u001b[0m                                 Traceback (most recent call last)",
      "\u001b[1;32m<ipython-input-24-e558f608b8ff>\u001b[0m in \u001b[0;36m<module>\u001b[1;34m\u001b[0m\n\u001b[1;32m----> 1\u001b[1;33m \u001b[0mdf_cap\u001b[0m\u001b[1;33m.\u001b[0m\u001b[0mhist\u001b[0m\u001b[1;33m(\u001b[0m\u001b[0mbins\u001b[0m \u001b[1;33m=\u001b[0m \u001b[1;36m50\u001b[0m\u001b[1;33m,\u001b[0m \u001b[0mfigsize\u001b[0m\u001b[1;33m=\u001b[0m \u001b[1;33m(\u001b[0m\u001b[1;36m20\u001b[0m\u001b[1;33m,\u001b[0m\u001b[1;36m15\u001b[0m\u001b[1;33m)\u001b[0m\u001b[1;33m)\u001b[0m\u001b[1;33m\u001b[0m\u001b[1;33m\u001b[0m\u001b[0m\n\u001b[0m\u001b[0;32m      2\u001b[0m \u001b[0mplt\u001b[0m\u001b[1;33m.\u001b[0m\u001b[0mshow\u001b[0m\u001b[1;33m(\u001b[0m\u001b[1;33m)\u001b[0m\u001b[1;33m\u001b[0m\u001b[1;33m\u001b[0m\u001b[0m\n",
      "\u001b[1;31mNameError\u001b[0m: name 'df_cap' is not defined"
     ]
    }
   ],
   "source": [
    "df_cap.hist(bins = 50, figsize= (20,15))\n",
    "plt.show()"
   ]
  },
  {
   "cell_type": "code",
   "execution_count": 23,
   "metadata": {},
   "outputs": [
    {
     "data": {
      "text/plain": [
       "(20640, 13)"
      ]
     },
     "execution_count": 23,
     "metadata": {},
     "output_type": "execute_result"
    }
   ],
   "source": [
    "df_2.shape"
   ]
  },
  {
   "cell_type": "markdown",
   "metadata": {},
   "source": [
    "# 63% accuracy"
   ]
  },
  {
   "cell_type": "code",
   "execution_count": 39,
   "metadata": {},
   "outputs": [],
   "source": [
    "factor = 1\n",
    "upper_lim = df_2['housing_median_age'].mean () + df_2['housing_median_age'].std () * factor\n",
    "lower_lim = df_2['housing_median_age'].mean () - df_2['housing_median_age'].std () * factor\n",
    "\n",
    "data = df_2[(df_2['housing_median_age'] < upper_lim) & (df_2['housing_median_age'] > lower_lim)]\n"
   ]
  },
  {
   "cell_type": "code",
   "execution_count": 24,
   "metadata": {},
   "outputs": [],
   "source": [
    "df_cap = df_2\n",
    "upper_lim1 = df_cap['housing_median_age'].quantile(.90)\n",
    "lower_lim1 = df_cap['housing_median_age'].quantile(.10)\n",
    "df_cap.loc[(df['housing_median_age'] > upper_lim1), ['housing_median_age']] = upper_lim1\n",
    "df_cap.loc[(df['housing_median_age'] < lower_lim1), ['housing_median_age']] = lower_lim1"
   ]
  },
  {
   "cell_type": "code",
   "execution_count": null,
   "metadata": {},
   "outputs": [],
   "source": [
    "df_cap['housing_median_age'].max()"
   ]
  },
  {
   "cell_type": "code",
   "execution_count": null,
   "metadata": {},
   "outputs": [],
   "source": [
    "data['housing_median_age']"
   ]
  },
  {
   "cell_type": "code",
   "execution_count": 40,
   "metadata": {},
   "outputs": [],
   "source": [
    "from sklearn.model_selection import train_test_split\n",
    "train_va, test = train_test_split(data, test_size = 0.2, random_state = 0)"
   ]
  },
  {
   "cell_type": "code",
   "execution_count": 41,
   "metadata": {},
   "outputs": [],
   "source": [
    "train, valid = train_test_split(train_va,test_size = 0.25,random_state = 0)"
   ]
  },
  {
   "cell_type": "code",
   "execution_count": 48,
   "metadata": {},
   "outputs": [
    {
     "data": {
      "text/plain": [
       "(11702, 13)"
      ]
     },
     "execution_count": 48,
     "metadata": {},
     "output_type": "execute_result"
    }
   ],
   "source": [
    "data.shape"
   ]
  },
  {
   "cell_type": "code",
   "execution_count": 42,
   "metadata": {},
   "outputs": [],
   "source": [
    "import numpy as np"
   ]
  },
  {
   "cell_type": "code",
   "execution_count": 56,
   "metadata": {},
   "outputs": [],
   "source": [
    "x_train = np.asanyarray(train_va.drop(['median_house_value'], axis = 1))\n",
    "y_train = np.asanyarray(train_va[\"median_house_value\"])\n",
    "\n",
    "x_test =  np.asanyarray(test.drop(['median_house_value'],axis=1))\n",
    "y_test = np.asanyarray(test['median_house_value'])\n",
    "\n",
    "x_vad =  np.asanyarray(valid.drop(['median_house_value'],axis=1))\n",
    "y_vad = np.asanyarray(valid['median_house_value'])"
   ]
  },
  {
   "cell_type": "code",
   "execution_count": 87,
   "metadata": {},
   "outputs": [
    {
     "data": {
      "text/plain": [
       "LinearRegression()"
      ]
     },
     "execution_count": 87,
     "metadata": {},
     "output_type": "execute_result"
    }
   ],
   "source": [
    "regr = LinearRegression()\n",
    "regr.fit(x_train, y_train,0.5)"
   ]
  },
  {
   "cell_type": "code",
   "execution_count": 88,
   "metadata": {},
   "outputs": [],
   "source": [
    "yhat = regr.predict(x_train)"
   ]
  },
  {
   "cell_type": "markdown",
   "metadata": {},
   "source": []
  },
  {
   "cell_type": "code",
   "execution_count": 89,
   "metadata": {},
   "outputs": [
    {
     "data": {
      "text/plain": [
       "64014.62264869145"
      ]
     },
     "execution_count": 89,
     "metadata": {},
     "output_type": "execute_result"
    }
   ],
   "source": [
    "evaluation = mean_squared_error(y_train,yhat)\n",
    "evaluation_sq = np.sqrt(evaluation)\n",
    "evaluation_sq"
   ]
  },
  {
   "cell_type": "code",
   "execution_count": 83,
   "metadata": {},
   "outputs": [
    {
     "data": {
      "text/plain": [
       "63153.33311985485"
      ]
     },
     "execution_count": 83,
     "metadata": {},
     "output_type": "execute_result"
    }
   ],
   "source": [
    "yhat = regr.predict(x_test)\n",
    "evaluation = mean_squared_error(y_test,yhat)\n",
    "evaluation_sq = np.sqrt(evaluation)\n",
    "evaluation_sq"
   ]
  },
  {
   "cell_type": "code",
   "execution_count": null,
   "metadata": {},
   "outputs": [],
   "source": [
    "data.info()"
   ]
  },
  {
   "cell_type": "markdown",
   "metadata": {},
   "source": [
    "#df3<br> \n",
    "67923.49829006246<br>\n",
    "<blockquote>Column                        Non-Null Count  Dtype <br> \n",
    "---  ------                        --------------  -----  \n",
    "0   longitude                     20640 non-null  float64 <br>\n",
    "1   latitude                      20640 non-null  float64<br>\n",
    "2   housing_median_age            20640 non-null  float64\n",
    "3   median_income                 20640 non-null  float64\n",
    "4   median_house_value            20640 non-null  float64\n",
    "5   ocean_proximity               20640 non-null  int32  \n",
    "6   rooms_per_household_log       20640 non-null  float64\n",
    "7   population_per_household_log  20640 non-null  float64\n",
    "8   bedrooms_per_rooms_log        20640 non-null  float64</blockquote>\n",
    "#df_4\n",
    "67628.67870921799\n",
    "<blockquote>Column                        Non-Null Count  Dtype  \n",
    "---  ------                        --------------  -----  \n",
    " 0   longitude                     20640 non-null  float64\n",
    " 1   latitude                      20640 non-null  float64\n",
    " 2   housing_median_age            20640 non-null  float64\n",
    " 3   households                    20640 non-null  float64\n",
    " 4   median_income                 20640 non-null  float64\n",
    " 5   median_house_value            20640 non-null  float64\n",
    " 6   ocean_proximity               20640 non-null  int32  \n",
    " 7   rooms_per_household_log       20640 non-null  float64\n",
    " 8   population_per_household_log  20640 non-null  float64\n",
    " 9   bedrooms_per_rooms_log        20640 non-null  float64</blockquote>\n",
    "df_5 \n",
    "67597.65201828879\n",
    "   Column                        Non-Null Count  Dtype  \n",
    "---  ------                        --------------  -----  \n",
    " 0   longitude                     20640 non-null  float64\n",
    " 1   latitude                      20640 non-null  float64\n",
    " 2   housing_median_age            20640 non-null  float64\n",
    " 3   total_rooms                   20640 non-null  float64\n",
    " 4   total_bedrooms                20640 non-null  float64\n",
    " 5   households                    20640 non-null  float64\n",
    " 6   median_income                 20640 non-null  float64\n",
    " 7   median_house_value            20640 non-null  float64\n",
    " 8   ocean_proximity               20640 non-null  int32  \n",
    " 9   rooms_per_household_log       20640 non-null  float64\n",
    " 10  population_per_household_log  20640 non-null  float64\n",
    " 11  bedrooms_per_rooms_log        20640 non-null  float64\n",
    " df_ 6\n",
    " 67547.34811205833\n",
    "    Column                        Non-Null Count  Dtype  \n",
    "---  ------                        --------------  -----  \n",
    " 0   longitude                     20640 non-null  float64\n",
    " 1   latitude                      20640 non-null  float64\n",
    " 2   housing_median_age            20640 non-null  float64\n",
    " 3   households                    20640 non-null  float64\n",
    " 4   median_income                 20640 non-null  float64\n",
    " 5   median_house_value            20640 non-null  float64\n",
    " 6   ocean_proximity               20640 non-null  int32  \n",
    " 7   rooms_per_household_log       20640 non-null  float64\n",
    " 8   population_per_household_log  20640 non-null  float64\n",
    " 9   bedrooms_per_rooms_log        20640 non-null  float64\n",
    " 10  total_rooms_log               20640 non-null  float64\n",
    " 11  total_bedrooms_log            20640 non-null  float64\n",
    " 63153.33311985455\n",
    " 0   longitude                     11702 non-null  float64\n",
    " 1   latitude                      11702 non-null  float64\n",
    " 2   housing_median_age            11702 non-null  float64\n",
    " 3   population                    11702 non-null  float64\n",
    " 4   households                    11702 non-null  float64\n",
    " 5   median_income                 11702 non-null  float64\n",
    " 6   median_house_value            11702 non-null  float64\n",
    " 7   ocean_proximity               11702 non-null  int32  \n",
    " 8   rooms_per_household_log       11702 non-null  float64\n",
    " 9   population_per_household_log  11702 non-null  float64\n",
    " 10  bedrooms_per_rooms_log        11702 non-null  float64\n",
    " 11  total_rooms_log               11702 non-null  float64\n",
    " 12  total_bedrooms_log            11702 non-null  float64\n",
    " xu ly outlier housing_median_age - drop"
   ]
  },
  {
   "cell_type": "markdown",
   "metadata": {},
   "source": [
    "63046.56749417721"
   ]
  },
  {
   "cell_type": "code",
   "execution_count": null,
   "metadata": {},
   "outputs": [],
   "source": [
    "#df2 69584.08396859783\n",
    "# \n",
    "#df3 67923.49829006246 \n",
    "#    Column                        Non-Null Count  Dtype  \n",
    "# ---  ------                        --------------  -----  \n",
    "#  0   longitude                     20640 non-null  float64\n",
    "#  1   latitude                      20640 non-null  float64\n",
    "#  2   housing_median_age            20640 non-null  float64\n",
    "#  3   median_income                 20640 non-null  float64\n",
    "#  4   median_house_value            20640 non-null  float64\n",
    "#  5   ocean_proximity               20640 non-null  int32  \n",
    "#  6   rooms_per_household_log       20640 non-null  float64\n",
    "#  7   population_per_household_log  20640 non-null  float64\n",
    "#  8   bedrooms_per_rooms_log        20640 non-null  float64"
   ]
  },
  {
   "cell_type": "code",
   "execution_count": null,
   "metadata": {},
   "outputs": [],
   "source": [
    "df_2[\"median_income_log\"] = (median_income - median_income.min() + 1).transform(np.log)\n",
    "df_2 = df_2.drop([\"median_income\"], axis = 1)"
   ]
  },
  {
   "cell_type": "code",
   "execution_count": null,
   "metadata": {},
   "outputs": [],
   "source": [
    "df_4 = df_4.drop([\"median_income\"], axis = 1)"
   ]
  },
  {
   "cell_type": "code",
   "execution_count": null,
   "metadata": {},
   "outputs": [],
   "source": []
  }
 ],
 "metadata": {
  "kernelspec": {
   "display_name": "Python 3",
   "language": "python",
   "name": "python3"
  },
  "language_info": {
   "codemirror_mode": {
    "name": "ipython",
    "version": 3
   },
   "file_extension": ".py",
   "mimetype": "text/x-python",
   "name": "python",
   "nbconvert_exporter": "python",
   "pygments_lexer": "ipython3",
   "version": "3.7.7"
  }
 },
 "nbformat": 4,
 "nbformat_minor": 4
}
