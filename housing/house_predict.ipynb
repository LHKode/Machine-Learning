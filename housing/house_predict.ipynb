{
 "cells": [
  {
   "cell_type": "code",
   "execution_count": null,
   "metadata": {},
   "outputs": [],
   "source": [
    "import os\n",
    "import tarfile\n",
    "from six.moves import urllib\n",
    "from sklearn.model_selection import train_test_split\n",
    "import numpy as np\n",
    "import pandas as pd\n",
    "from sklearn import preprocessing\n",
    "import matplotlib.pyplot as plt\n",
    "from sklearn.model_selection import train_test_split\n",
    "import math\n",
    "from sklearn.linear_model import LinearRegression\n",
    "from sklearn.metrics import mean_squared_error"
   ]
  },
  {
   "cell_type": "code",
   "execution_count": 2,
   "metadata": {},
   "outputs": [],
   "source": [
    "DOWNLOAD_ROOT = \"https://raw.githubusercontent.com/ageron/handson-ml2/master/\"\n",
    "HOUSING_PATH = os.path.join(\"datasets\", \"housing\")\n",
    "HOUSING_URL = DOWNLOAD_ROOT + \"datasets/housing/housing.tgz\"\n",
    "\n",
    "def fetch_housing_data(housing_url=HOUSING_URL, housing_path=HOUSING_PATH):\n",
    "    if not os.path.isdir(housing_path):\n",
    "        os.makedirs(housing_path)\n",
    "    tgz_path = os.path.join(housing_path, \"housing.tgz\")\n",
    "    urllib.request.urlretrieve(housing_url, tgz_path)\n",
    "    housing_tgz = tarfile.open(tgz_path)\n",
    "    housing_tgz.extractall(path=housing_path)\n",
    "    housing_tgz.close()"
   ]
  },
  {
   "cell_type": "code",
   "execution_count": 3,
   "metadata": {},
   "outputs": [],
   "source": [
    "fetch_housing_data()"
   ]
  },
  {
   "cell_type": "code",
   "execution_count": 4,
   "metadata": {
    "scrolled": false
   },
   "outputs": [
    {
     "data": {
      "text/html": [
       "<div>\n",
       "<style scoped>\n",
       "    .dataframe tbody tr th:only-of-type {\n",
       "        vertical-align: middle;\n",
       "    }\n",
       "\n",
       "    .dataframe tbody tr th {\n",
       "        vertical-align: top;\n",
       "    }\n",
       "\n",
       "    .dataframe thead th {\n",
       "        text-align: right;\n",
       "    }\n",
       "</style>\n",
       "<table border=\"1\" class=\"dataframe\">\n",
       "  <thead>\n",
       "    <tr style=\"text-align: right;\">\n",
       "      <th></th>\n",
       "      <th>longitude</th>\n",
       "      <th>latitude</th>\n",
       "      <th>housing_median_age</th>\n",
       "      <th>total_rooms</th>\n",
       "      <th>total_bedrooms</th>\n",
       "      <th>population</th>\n",
       "      <th>households</th>\n",
       "      <th>median_income</th>\n",
       "      <th>median_house_value</th>\n",
       "      <th>ocean_proximity</th>\n",
       "    </tr>\n",
       "  </thead>\n",
       "  <tbody>\n",
       "    <tr>\n",
       "      <th>0</th>\n",
       "      <td>-122.23</td>\n",
       "      <td>37.88</td>\n",
       "      <td>41.0</td>\n",
       "      <td>880.0</td>\n",
       "      <td>129.0</td>\n",
       "      <td>322.0</td>\n",
       "      <td>126.0</td>\n",
       "      <td>8.3252</td>\n",
       "      <td>452600.0</td>\n",
       "      <td>NEAR BAY</td>\n",
       "    </tr>\n",
       "    <tr>\n",
       "      <th>1</th>\n",
       "      <td>-122.22</td>\n",
       "      <td>37.86</td>\n",
       "      <td>21.0</td>\n",
       "      <td>7099.0</td>\n",
       "      <td>1106.0</td>\n",
       "      <td>2401.0</td>\n",
       "      <td>1138.0</td>\n",
       "      <td>8.3014</td>\n",
       "      <td>358500.0</td>\n",
       "      <td>NEAR BAY</td>\n",
       "    </tr>\n",
       "    <tr>\n",
       "      <th>2</th>\n",
       "      <td>-122.24</td>\n",
       "      <td>37.85</td>\n",
       "      <td>52.0</td>\n",
       "      <td>1467.0</td>\n",
       "      <td>190.0</td>\n",
       "      <td>496.0</td>\n",
       "      <td>177.0</td>\n",
       "      <td>7.2574</td>\n",
       "      <td>352100.0</td>\n",
       "      <td>NEAR BAY</td>\n",
       "    </tr>\n",
       "    <tr>\n",
       "      <th>3</th>\n",
       "      <td>-122.25</td>\n",
       "      <td>37.85</td>\n",
       "      <td>52.0</td>\n",
       "      <td>1274.0</td>\n",
       "      <td>235.0</td>\n",
       "      <td>558.0</td>\n",
       "      <td>219.0</td>\n",
       "      <td>5.6431</td>\n",
       "      <td>341300.0</td>\n",
       "      <td>NEAR BAY</td>\n",
       "    </tr>\n",
       "    <tr>\n",
       "      <th>4</th>\n",
       "      <td>-122.25</td>\n",
       "      <td>37.85</td>\n",
       "      <td>52.0</td>\n",
       "      <td>1627.0</td>\n",
       "      <td>280.0</td>\n",
       "      <td>565.0</td>\n",
       "      <td>259.0</td>\n",
       "      <td>3.8462</td>\n",
       "      <td>342200.0</td>\n",
       "      <td>NEAR BAY</td>\n",
       "    </tr>\n",
       "  </tbody>\n",
       "</table>\n",
       "</div>"
      ],
      "text/plain": [
       "   longitude  latitude  housing_median_age  total_rooms  total_bedrooms  \\\n",
       "0    -122.23     37.88                41.0        880.0           129.0   \n",
       "1    -122.22     37.86                21.0       7099.0          1106.0   \n",
       "2    -122.24     37.85                52.0       1467.0           190.0   \n",
       "3    -122.25     37.85                52.0       1274.0           235.0   \n",
       "4    -122.25     37.85                52.0       1627.0           280.0   \n",
       "\n",
       "   population  households  median_income  median_house_value ocean_proximity  \n",
       "0       322.0       126.0         8.3252            452600.0        NEAR BAY  \n",
       "1      2401.0      1138.0         8.3014            358500.0        NEAR BAY  \n",
       "2       496.0       177.0         7.2574            352100.0        NEAR BAY  \n",
       "3       558.0       219.0         5.6431            341300.0        NEAR BAY  \n",
       "4       565.0       259.0         3.8462            342200.0        NEAR BAY  "
      ]
     },
     "execution_count": 4,
     "metadata": {},
     "output_type": "execute_result"
    }
   ],
   "source": [
    "df = pd.read_csv(\"datasets/housing/housing.csv\")\n",
    "df.head()"
   ]
  },
  {
   "cell_type": "markdown",
   "metadata": {},
   "source": [
    "### Label Encoder 'ocean_proximity'"
   ]
  },
  {
   "cell_type": "code",
   "execution_count": 5,
   "metadata": {},
   "outputs": [],
   "source": [
    "label = preprocessing.LabelEncoder()\n",
    "label.fit(['NEAR BAY', '<1H OCEAN', 'INLAND', 'NEAR OCEAN', 'ISLAND'])\n",
    "df['ocean_proximity'] = label.transform(df['ocean_proximity'])"
   ]
  },
  {
   "cell_type": "markdown",
   "metadata": {},
   "source": [
    "### Fill NA 'total bedrooms'  "
   ]
  },
  {
   "cell_type": "code",
   "execution_count": 6,
   "metadata": {
    "scrolled": true
   },
   "outputs": [],
   "source": [
    "median = df[\"total_bedrooms\"].median()\n",
    "df[\"total_bedrooms\"].fillna(median, inplace = True)"
   ]
  },
  {
   "cell_type": "markdown",
   "metadata": {},
   "source": [
    "### Features combination \n",
    "<blockquote>total_rooms / households => rooms_per_household<br>\n",
    "total_bedrooms / total_rooms => bedrooms_per_rooms<br>\n",
    "population / households => population_per_household</blockquote>"
   ]
  },
  {
   "cell_type": "code",
   "execution_count": 7,
   "metadata": {},
   "outputs": [],
   "source": [
    "df[\"rooms_per_household\"] = df[\"total_rooms\"] / df[\"households\"]\n",
    "df[\"bedrooms_per_rooms\"] = df[\"total_bedrooms\"] / df[\"total_rooms\"]\n",
    "df[\"population_per_household\"] = df[\"population\"] / df[\"households\"]\n"
   ]
  },
  {
   "cell_type": "markdown",
   "metadata": {},
   "source": [
    "### Get each feature"
   ]
  },
  {
   "cell_type": "code",
   "execution_count": 8,
   "metadata": {},
   "outputs": [],
   "source": [
    "house = df[\"households\"]\n",
    "houssing_median_age = df[\"housing_median_age\"]\n",
    "latitude = df[\"latitude\"]\n",
    "longitude = df[\"longitude\"]\n",
    "median_house_value = df[\"median_house_value\"]\n",
    "median_income = df[\"median_income\"]\n",
    "# ?????????????????????? mấy cái này xài per rồi bỏ đi\n",
    "# population = df[\"population\"]\n",
    "# total_bedrooms = df[\"total_bedrooms\"]\n",
    "# total_rooms = df[\"total_rooms\"]\n",
    "ocean_proximity = df[\"ocean_proximity\"]\n",
    "\n",
    "rooms_per_household = df['rooms_per_household']\n",
    "population_per_household = df['population_per_household']\n",
    "bedrooms_per_rooms = df['bedrooms_per_rooms']"
   ]
  },
  {
   "cell_type": "markdown",
   "metadata": {},
   "source": [
    "### Log transform :\n",
    "<blockquote>rooms_per_household<br>\n",
    "    population_per_household<br>\n",
    "    bedrooms_per_rooms<br>\n",
    "    total_rooms<br>\n",
    "    total_bedrooms<\\blockquote>"
   ]
  },
  {
   "cell_type": "code",
   "execution_count": 9,
   "metadata": {},
   "outputs": [],
   "source": [
    "df[\"rooms_per_household_log\"] = (rooms_per_household - rooms_per_household.min() + 1).transform(np.log)\n",
    "df[\"population_per_household_log\"] = (population_per_household  - population_per_household.min() + 1).transform(np.log)\n",
    "df[\"bedrooms_per_rooms_log\"] = (bedrooms_per_rooms   - bedrooms_per_rooms.min() + 1).transform(np.log)\n",
    "\n",
    "df = df.drop(['rooms_per_household','population_per_household','bedrooms_per_rooms'], axis =1)\n",
    "\n",
    "# df[\"total_rooms_log\"] = (total_rooms - total_rooms.min() + 1).transform(np.log)\n",
    "# df[\"total_bedrooms_log\"] = (total_bedrooms - total_bedrooms.min() + 1).transform(np.log)\n",
    "\n",
    "df = df.drop(['total_rooms', 'total_bedrooms','households', 'population'] , axis = 1)"
   ]
  },
  {
   "cell_type": "code",
   "execution_count": 10,
   "metadata": {},
   "outputs": [
    {
     "data": {
      "text/html": [
       "<div>\n",
       "<style scoped>\n",
       "    .dataframe tbody tr th:only-of-type {\n",
       "        vertical-align: middle;\n",
       "    }\n",
       "\n",
       "    .dataframe tbody tr th {\n",
       "        vertical-align: top;\n",
       "    }\n",
       "\n",
       "    .dataframe thead th {\n",
       "        text-align: right;\n",
       "    }\n",
       "</style>\n",
       "<table border=\"1\" class=\"dataframe\">\n",
       "  <thead>\n",
       "    <tr style=\"text-align: right;\">\n",
       "      <th></th>\n",
       "      <th>longitude</th>\n",
       "      <th>latitude</th>\n",
       "      <th>housing_median_age</th>\n",
       "      <th>median_income</th>\n",
       "      <th>median_house_value</th>\n",
       "      <th>ocean_proximity</th>\n",
       "      <th>rooms_per_household_log</th>\n",
       "      <th>population_per_household_log</th>\n",
       "      <th>bedrooms_per_rooms_log</th>\n",
       "    </tr>\n",
       "  </thead>\n",
       "  <tbody>\n",
       "    <tr>\n",
       "      <th>0</th>\n",
       "      <td>-122.23</td>\n",
       "      <td>37.88</td>\n",
       "      <td>41.0</td>\n",
       "      <td>8.3252</td>\n",
       "      <td>452600.0</td>\n",
       "      <td>3</td>\n",
       "      <td>1.965429</td>\n",
       "      <td>1.051957</td>\n",
       "      <td>0.103855</td>\n",
       "    </tr>\n",
       "    <tr>\n",
       "      <th>1</th>\n",
       "      <td>-122.22</td>\n",
       "      <td>37.86</td>\n",
       "      <td>21.0</td>\n",
       "      <td>8.3014</td>\n",
       "      <td>358500.0</td>\n",
       "      <td>3</td>\n",
       "      <td>1.855045</td>\n",
       "      <td>0.882748</td>\n",
       "      <td>0.112119</td>\n",
       "    </tr>\n",
       "    <tr>\n",
       "      <th>2</th>\n",
       "      <td>-122.24</td>\n",
       "      <td>37.85</td>\n",
       "      <td>52.0</td>\n",
       "      <td>7.2574</td>\n",
       "      <td>352100.0</td>\n",
       "      <td>3</td>\n",
       "      <td>2.133217</td>\n",
       "      <td>1.134607</td>\n",
       "      <td>0.088345</td>\n",
       "    </tr>\n",
       "    <tr>\n",
       "      <th>3</th>\n",
       "      <td>-122.25</td>\n",
       "      <td>37.85</td>\n",
       "      <td>52.0</td>\n",
       "      <td>5.6431</td>\n",
       "      <td>341300.0</td>\n",
       "      <td>3</td>\n",
       "      <td>1.786948</td>\n",
       "      <td>1.049295</td>\n",
       "      <td>0.137418</td>\n",
       "    </tr>\n",
       "    <tr>\n",
       "      <th>4</th>\n",
       "      <td>-122.25</td>\n",
       "      <td>37.85</td>\n",
       "      <td>52.0</td>\n",
       "      <td>3.8462</td>\n",
       "      <td>342200.0</td>\n",
       "      <td>3</td>\n",
       "      <td>1.861861</td>\n",
       "      <td>0.911945</td>\n",
       "      <td>0.126584</td>\n",
       "    </tr>\n",
       "    <tr>\n",
       "      <th>...</th>\n",
       "      <td>...</td>\n",
       "      <td>...</td>\n",
       "      <td>...</td>\n",
       "      <td>...</td>\n",
       "      <td>...</td>\n",
       "      <td>...</td>\n",
       "      <td>...</td>\n",
       "      <td>...</td>\n",
       "      <td>...</td>\n",
       "    </tr>\n",
       "    <tr>\n",
       "      <th>20635</th>\n",
       "      <td>-121.09</td>\n",
       "      <td>39.48</td>\n",
       "      <td>25.0</td>\n",
       "      <td>1.5603</td>\n",
       "      <td>78100.0</td>\n",
       "      <td>1</td>\n",
       "      <td>1.648524</td>\n",
       "      <td>1.053719</td>\n",
       "      <td>0.171828</td>\n",
       "    </tr>\n",
       "    <tr>\n",
       "      <th>20636</th>\n",
       "      <td>-121.21</td>\n",
       "      <td>39.49</td>\n",
       "      <td>18.0</td>\n",
       "      <td>2.5568</td>\n",
       "      <td>77100.0</td>\n",
       "      <td>1</td>\n",
       "      <td>1.835438</td>\n",
       "      <td>1.232706</td>\n",
       "      <td>0.163867</td>\n",
       "    </tr>\n",
       "    <tr>\n",
       "      <th>20637</th>\n",
       "      <td>-121.22</td>\n",
       "      <td>39.43</td>\n",
       "      <td>17.0</td>\n",
       "      <td>1.7000</td>\n",
       "      <td>92300.0</td>\n",
       "      <td>1</td>\n",
       "      <td>1.678850</td>\n",
       "      <td>0.968248</td>\n",
       "      <td>0.163837</td>\n",
       "    </tr>\n",
       "    <tr>\n",
       "      <th>20638</th>\n",
       "      <td>-121.32</td>\n",
       "      <td>39.43</td>\n",
       "      <td>18.0</td>\n",
       "      <td>1.8672</td>\n",
       "      <td>84700.0</td>\n",
       "      <td>1</td>\n",
       "      <td>1.701718</td>\n",
       "      <td>0.888262</td>\n",
       "      <td>0.167835</td>\n",
       "    </tr>\n",
       "    <tr>\n",
       "      <th>20639</th>\n",
       "      <td>-121.24</td>\n",
       "      <td>39.37</td>\n",
       "      <td>16.0</td>\n",
       "      <td>2.3886</td>\n",
       "      <td>89400.0</td>\n",
       "      <td>1</td>\n",
       "      <td>1.687983</td>\n",
       "      <td>1.073183</td>\n",
       "      <td>0.168927</td>\n",
       "    </tr>\n",
       "  </tbody>\n",
       "</table>\n",
       "<p>20640 rows × 9 columns</p>\n",
       "</div>"
      ],
      "text/plain": [
       "       longitude  latitude  housing_median_age  median_income  \\\n",
       "0        -122.23     37.88                41.0         8.3252   \n",
       "1        -122.22     37.86                21.0         8.3014   \n",
       "2        -122.24     37.85                52.0         7.2574   \n",
       "3        -122.25     37.85                52.0         5.6431   \n",
       "4        -122.25     37.85                52.0         3.8462   \n",
       "...          ...       ...                 ...            ...   \n",
       "20635    -121.09     39.48                25.0         1.5603   \n",
       "20636    -121.21     39.49                18.0         2.5568   \n",
       "20637    -121.22     39.43                17.0         1.7000   \n",
       "20638    -121.32     39.43                18.0         1.8672   \n",
       "20639    -121.24     39.37                16.0         2.3886   \n",
       "\n",
       "       median_house_value  ocean_proximity  rooms_per_household_log  \\\n",
       "0                452600.0                3                 1.965429   \n",
       "1                358500.0                3                 1.855045   \n",
       "2                352100.0                3                 2.133217   \n",
       "3                341300.0                3                 1.786948   \n",
       "4                342200.0                3                 1.861861   \n",
       "...                   ...              ...                      ...   \n",
       "20635             78100.0                1                 1.648524   \n",
       "20636             77100.0                1                 1.835438   \n",
       "20637             92300.0                1                 1.678850   \n",
       "20638             84700.0                1                 1.701718   \n",
       "20639             89400.0                1                 1.687983   \n",
       "\n",
       "       population_per_household_log  bedrooms_per_rooms_log  \n",
       "0                          1.051957                0.103855  \n",
       "1                          0.882748                0.112119  \n",
       "2                          1.134607                0.088345  \n",
       "3                          1.049295                0.137418  \n",
       "4                          0.911945                0.126584  \n",
       "...                             ...                     ...  \n",
       "20635                      1.053719                0.171828  \n",
       "20636                      1.232706                0.163867  \n",
       "20637                      0.968248                0.163837  \n",
       "20638                      0.888262                0.167835  \n",
       "20639                      1.073183                0.168927  \n",
       "\n",
       "[20640 rows x 9 columns]"
      ]
     },
     "execution_count": 10,
     "metadata": {},
     "output_type": "execute_result"
    }
   ],
   "source": [
    "df"
   ]
  },
  {
   "cell_type": "markdown",
   "metadata": {},
   "source": [
    "###  Drop outlier in 'housing_median_age' "
   ]
  },
  {
   "cell_type": "code",
   "execution_count": 11,
   "metadata": {},
   "outputs": [],
   "source": [
    "factor = 1\n",
    "upper_lim = df['housing_median_age'].mean () + df['housing_median_age'].std () * factor\n",
    "lower_lim = df['housing_median_age'].mean () - df['housing_median_age'].std () * factor\n",
    "\n",
    "df = df[(df['housing_median_age'] < upper_lim) & (df['housing_median_age'] > lower_lim)]\n"
   ]
  },
  {
   "cell_type": "code",
   "execution_count": 12,
   "metadata": {
    "scrolled": true
   },
   "outputs": [
    {
     "name": "stdout",
     "output_type": "stream",
     "text": [
      "<class 'pandas.core.frame.DataFrame'>\n",
      "Int64Index: 13000 entries, 0 to 20638\n",
      "Data columns (total 9 columns):\n",
      " #   Column                        Non-Null Count  Dtype  \n",
      "---  ------                        --------------  -----  \n",
      " 0   longitude                     13000 non-null  float64\n",
      " 1   latitude                      13000 non-null  float64\n",
      " 2   housing_median_age            13000 non-null  float64\n",
      " 3   median_income                 13000 non-null  float64\n",
      " 4   median_house_value            13000 non-null  float64\n",
      " 5   ocean_proximity               13000 non-null  int32  \n",
      " 6   rooms_per_household_log       13000 non-null  float64\n",
      " 7   population_per_household_log  13000 non-null  float64\n",
      " 8   bedrooms_per_rooms_log        13000 non-null  float64\n",
      "dtypes: float64(8), int32(1)\n",
      "memory usage: 964.8 KB\n"
     ]
    }
   ],
   "source": [
    "df.info()"
   ]
  },
  {
   "cell_type": "markdown",
   "metadata": {},
   "source": [
    "# Cap outlier with percentile"
   ]
  },
  {
   "cell_type": "code",
   "execution_count": null,
   "metadata": {},
   "outputs": [],
   "source": [
    "upper_lim = df['housing_median_age'].quantile(.95)\n",
    "lower_lim = df['housing_median_age'].quantile(.5)\n",
    "df.loc[(df['housing_median_age'] > upper_lim),'housing_median_age'] = upper_lim\n",
    "df.loc[(df['housing_median_age'] < lower_lim),'housing_median_age'] = lower_lim"
   ]
  },
  {
   "cell_type": "code",
   "execution_count": null,
   "metadata": {},
   "outputs": [],
   "source": [
    "df"
   ]
  },
  {
   "cell_type": "markdown",
   "metadata": {},
   "source": [
    "# Train, Test, Valid\n",
    "## Chia theo tỉ lệ 6 2 2"
   ]
  },
  {
   "cell_type": "code",
   "execution_count": 15,
   "metadata": {},
   "outputs": [],
   "source": [
    "train_va, test = train_test_split(df, test_size = 0.2, random_state = 0)\n",
    "train, valid = train_test_split(train_va,test_size = 0.25,random_state = 0)"
   ]
  },
  {
   "cell_type": "code",
   "execution_count": 16,
   "metadata": {},
   "outputs": [],
   "source": [
    "x_train = np.asanyarray(train_va.drop(['median_house_value'], axis = 1))\n",
    "y_train = np.asanyarray(train_va[\"median_house_value\"])\n",
    "\n",
    "x_test =  np.asanyarray(test.drop(['median_house_value'],axis=1))\n",
    "y_test = np.asanyarray(test['median_house_value'])\n",
    "\n",
    "x_valid =  np.asanyarray(valid.drop(['median_house_value'],axis=1))\n",
    "y_valid = np.asanyarray(valid['median_house_value'])"
   ]
  },
  {
   "cell_type": "code",
   "execution_count": null,
   "metadata": {},
   "outputs": [],
   "source": [
    "print(x_train.shape)\n",
    "print(x_test.shape)\n",
    "print(df.shape)"
   ]
  },
  {
   "cell_type": "markdown",
   "metadata": {},
   "source": [
    "# MinMax Scaler"
   ]
  },
  {
   "cell_type": "code",
   "execution_count": null,
   "metadata": {
    "scrolled": false
   },
   "outputs": [],
   "source": [
    "x_train.columns"
   ]
  },
  {
   "cell_type": "code",
   "execution_count": null,
   "metadata": {},
   "outputs": [],
   "source": [
    "scaler = df[['longitude', 'latitude','housing_median_age','median_income','ocean_proximity']]"
   ]
  },
  {
   "cell_type": "code",
   "execution_count": null,
   "metadata": {},
   "outputs": [],
   "source": [
    "from sklearn.preprocessing import StandardScaler\n",
    "from sklearn.preprocessing import MinMaxScaler\n",
    "x_train = StandardScaler().fit(x_train).transform(x_train.astype(float))"
   ]
  },
  {
   "cell_type": "code",
   "execution_count": null,
   "metadata": {},
   "outputs": [],
   "source": [
    "x_test = StandardScaler().fit(x_test).transform(x_test.astype(float))"
   ]
  },
  {
   "cell_type": "code",
   "execution_count": null,
   "metadata": {},
   "outputs": [],
   "source": [
    "df[['longitude', 'latitude','housing_median_age','median_income','ocean_proximity']] = scaler"
   ]
  },
  {
   "cell_type": "code",
   "execution_count": null,
   "metadata": {},
   "outputs": [],
   "source": [
    "df.columns"
   ]
  },
  {
   "cell_type": "code",
   "execution_count": null,
   "metadata": {},
   "outputs": [],
   "source": [
    "data = df[['longitude', 'latitude', 'housing_median_age', 'median_income',\n",
    "       'median_house_value', 'ocean_proximity', 'rooms_per_household_log',\n",
    "       'population_per_household_log', 'bedrooms_per_rooms_log']]"
   ]
  },
  {
   "cell_type": "code",
   "execution_count": null,
   "metadata": {},
   "outputs": [],
   "source": [
    "data"
   ]
  },
  {
   "cell_type": "code",
   "execution_count": null,
   "metadata": {},
   "outputs": [],
   "source": [
    "x_train"
   ]
  },
  {
   "cell_type": "markdown",
   "metadata": {},
   "source": [
    "# Modeling\n",
    "### Fit LR model"
   ]
  },
  {
   "cell_type": "code",
   "execution_count": 18,
   "metadata": {},
   "outputs": [
    {
     "data": {
      "text/plain": [
       "LinearRegression()"
      ]
     },
     "execution_count": 18,
     "metadata": {},
     "output_type": "execute_result"
    }
   ],
   "source": [
    "regr = LinearRegression()\n",
    "regr.fit(x_train, y_train)"
   ]
  },
  {
   "cell_type": "markdown",
   "metadata": {},
   "source": [
    "### Coefficients && Intercept "
   ]
  },
  {
   "cell_type": "code",
   "execution_count": 19,
   "metadata": {},
   "outputs": [
    {
     "name": "stdout",
     "output_type": "stream",
     "text": [
      "Coeficients:  [ -43279.3122169   -44546.66370663     571.79239994   42407.60024488\n",
      "   -2199.05548913   32566.08359755 -124186.68083613  452748.86607494]\n",
      "Intercept:  -3543166.479056815\n"
     ]
    }
   ],
   "source": [
    "print ('Coeficients: ',regr.coef_)\n",
    "print( 'Intercept: ', regr.intercept_)"
   ]
  },
  {
   "cell_type": "markdown",
   "metadata": {},
   "source": [
    "### Predict "
   ]
  },
  {
   "cell_type": "code",
   "execution_count": 20,
   "metadata": {},
   "outputs": [],
   "source": [
    "yhat_valid = regr.predict(x_valid)"
   ]
  },
  {
   "cell_type": "code",
   "execution_count": 21,
   "metadata": {},
   "outputs": [],
   "source": [
    "yhat_test = regr.predict(x_test)"
   ]
  },
  {
   "cell_type": "markdown",
   "metadata": {},
   "source": [
    "### Mean squared error "
   ]
  },
  {
   "cell_type": "markdown",
   "metadata": {},
   "source": []
  },
  {
   "cell_type": "code",
   "execution_count": 22,
   "metadata": {},
   "outputs": [
    {
     "name": "stdout",
     "output_type": "stream",
     "text": [
      "MSE trên tập valid: 65901.92726315008\n",
      "MSE trên tập test: 62943.72188458306\n"
     ]
    }
   ],
   "source": [
    "evaluation_valid = mean_squared_error(y_valid, yhat_valid)\n",
    "evaluation_test = mean_squared_error(y_test,yhat_test)\n",
    "evaluation_sq_valid = np.sqrt(evaluation_valid)\n",
    "evaluation_sq_test = np.sqrt(evaluation_test)\n",
    "print(\"MSE trên tập valid:\", evaluation_sq_valid)\n",
    "print(\"MSE trên tập test:\", evaluation_sq_test)"
   ]
  },
  {
   "cell_type": "markdown",
   "metadata": {},
   "source": [
    "### Raw notes"
   ]
  },
  {
   "cell_type": "markdown",
   "metadata": {},
   "source": [
    "#### 63153.33311985455\n",
    "<pre>\n",
    "     0   longitude                     11702 non-null  float64\n",
    "     1   latitude                      11702 non-null  float64\n",
    "     2   housing_median_age            11702 non-null  float64\n",
    "     3   population                    11702 non-null  float64\n",
    "     4   households                    11702 non-null  float64\n",
    "     5   median_income                 11702 non-null  float64\n",
    "     6   median_house_value            11702 non-null  float64\n",
    "     7   ocean_proximity               11702 non-null  int32  \n",
    "     8   rooms_per_household_log       11702 non-null  float64\n",
    "     9   population_per_household_log  11702 non-null  float64\n",
    "     10  bedrooms_per_rooms_log        11702 non-null  float64\n",
    "     11  total_rooms_log               11702 non-null  float64\n",
    "     12  total_bedrooms_log            11702 non-null  float64\n",
    "     xu ly outlier housing_median_age - drop\n",
    "</pre>"
   ]
  }
 ],
 "metadata": {
  "kernelspec": {
   "display_name": "Python 3",
   "language": "python",
   "name": "python3"
  },
  "language_info": {
   "codemirror_mode": {
    "name": "ipython",
    "version": 3
   },
   "file_extension": ".py",
   "mimetype": "text/x-python",
   "name": "python",
   "nbconvert_exporter": "python",
   "pygments_lexer": "ipython3",
   "version": "3.8.3"
  }
 },
 "nbformat": 4,
 "nbformat_minor": 4
}
