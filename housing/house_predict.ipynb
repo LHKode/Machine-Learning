{
 "cells": [
  {
   "cell_type": "code",
   "execution_count": 67,
   "metadata": {},
   "outputs": [],
   "source": [
    "import os\n",
    "import tarfile\n",
    "from six.moves import urllib\n",
    "from sklearn.model_selection import train_test_split\n",
    "import numpy as np\n",
    "import pandas as pd\n",
    "from sklearn import preprocessing\n",
    "import matplotlib.pyplot as plt\n",
    "from sklearn.model_selection import train_test_split\n",
    "import math\n",
    "from sklearn.linear_model import LinearRegression\n",
    "from sklearn.metrics import mean_squared_error"
   ]
  },
  {
   "cell_type": "code",
   "execution_count": 68,
   "metadata": {},
   "outputs": [],
   "source": [
    "DOWNLOAD_ROOT = \"https://raw.githubusercontent.com/ageron/handson-ml2/master/\"\n",
    "HOUSING_PATH = os.path.join(\"datasets\", \"housing\")\n",
    "HOUSING_URL = DOWNLOAD_ROOT + \"datasets/housing/housing.tgz\"\n",
    "\n",
    "def fetch_housing_data(housing_url=HOUSING_URL, housing_path=HOUSING_PATH):\n",
    "    if not os.path.isdir(housing_path):\n",
    "        os.makedirs(housing_path)\n",
    "    tgz_path = os.path.join(housing_path, \"housing.tgz\")\n",
    "    urllib.request.urlretrieve(housing_url, tgz_path)\n",
    "    housing_tgz = tarfile.open(tgz_path)\n",
    "    housing_tgz.extractall(path=housing_path)\n",
    "    housing_tgz.close()"
   ]
  },
  {
   "cell_type": "code",
   "execution_count": 69,
   "metadata": {},
   "outputs": [],
   "source": [
    "fetch_housing_data()"
   ]
  },
  {
   "cell_type": "code",
   "execution_count": 70,
   "metadata": {
    "scrolled": true
   },
   "outputs": [
    {
     "data": {
      "text/html": [
       "<div>\n",
       "<style scoped>\n",
       "    .dataframe tbody tr th:only-of-type {\n",
       "        vertical-align: middle;\n",
       "    }\n",
       "\n",
       "    .dataframe tbody tr th {\n",
       "        vertical-align: top;\n",
       "    }\n",
       "\n",
       "    .dataframe thead th {\n",
       "        text-align: right;\n",
       "    }\n",
       "</style>\n",
       "<table border=\"1\" class=\"dataframe\">\n",
       "  <thead>\n",
       "    <tr style=\"text-align: right;\">\n",
       "      <th></th>\n",
       "      <th>longitude</th>\n",
       "      <th>latitude</th>\n",
       "      <th>housing_median_age</th>\n",
       "      <th>total_rooms</th>\n",
       "      <th>total_bedrooms</th>\n",
       "      <th>population</th>\n",
       "      <th>households</th>\n",
       "      <th>median_income</th>\n",
       "      <th>median_house_value</th>\n",
       "      <th>ocean_proximity</th>\n",
       "    </tr>\n",
       "  </thead>\n",
       "  <tbody>\n",
       "    <tr>\n",
       "      <th>0</th>\n",
       "      <td>-122.23</td>\n",
       "      <td>37.88</td>\n",
       "      <td>41.0</td>\n",
       "      <td>880.0</td>\n",
       "      <td>129.0</td>\n",
       "      <td>322.0</td>\n",
       "      <td>126.0</td>\n",
       "      <td>8.3252</td>\n",
       "      <td>452600.0</td>\n",
       "      <td>NEAR BAY</td>\n",
       "    </tr>\n",
       "    <tr>\n",
       "      <th>1</th>\n",
       "      <td>-122.22</td>\n",
       "      <td>37.86</td>\n",
       "      <td>21.0</td>\n",
       "      <td>7099.0</td>\n",
       "      <td>1106.0</td>\n",
       "      <td>2401.0</td>\n",
       "      <td>1138.0</td>\n",
       "      <td>8.3014</td>\n",
       "      <td>358500.0</td>\n",
       "      <td>NEAR BAY</td>\n",
       "    </tr>\n",
       "    <tr>\n",
       "      <th>2</th>\n",
       "      <td>-122.24</td>\n",
       "      <td>37.85</td>\n",
       "      <td>52.0</td>\n",
       "      <td>1467.0</td>\n",
       "      <td>190.0</td>\n",
       "      <td>496.0</td>\n",
       "      <td>177.0</td>\n",
       "      <td>7.2574</td>\n",
       "      <td>352100.0</td>\n",
       "      <td>NEAR BAY</td>\n",
       "    </tr>\n",
       "    <tr>\n",
       "      <th>3</th>\n",
       "      <td>-122.25</td>\n",
       "      <td>37.85</td>\n",
       "      <td>52.0</td>\n",
       "      <td>1274.0</td>\n",
       "      <td>235.0</td>\n",
       "      <td>558.0</td>\n",
       "      <td>219.0</td>\n",
       "      <td>5.6431</td>\n",
       "      <td>341300.0</td>\n",
       "      <td>NEAR BAY</td>\n",
       "    </tr>\n",
       "    <tr>\n",
       "      <th>4</th>\n",
       "      <td>-122.25</td>\n",
       "      <td>37.85</td>\n",
       "      <td>52.0</td>\n",
       "      <td>1627.0</td>\n",
       "      <td>280.0</td>\n",
       "      <td>565.0</td>\n",
       "      <td>259.0</td>\n",
       "      <td>3.8462</td>\n",
       "      <td>342200.0</td>\n",
       "      <td>NEAR BAY</td>\n",
       "    </tr>\n",
       "  </tbody>\n",
       "</table>\n",
       "</div>"
      ],
      "text/plain": [
       "   longitude  latitude  housing_median_age  total_rooms  total_bedrooms  \\\n",
       "0    -122.23     37.88                41.0        880.0           129.0   \n",
       "1    -122.22     37.86                21.0       7099.0          1106.0   \n",
       "2    -122.24     37.85                52.0       1467.0           190.0   \n",
       "3    -122.25     37.85                52.0       1274.0           235.0   \n",
       "4    -122.25     37.85                52.0       1627.0           280.0   \n",
       "\n",
       "   population  households  median_income  median_house_value ocean_proximity  \n",
       "0       322.0       126.0         8.3252            452600.0        NEAR BAY  \n",
       "1      2401.0      1138.0         8.3014            358500.0        NEAR BAY  \n",
       "2       496.0       177.0         7.2574            352100.0        NEAR BAY  \n",
       "3       558.0       219.0         5.6431            341300.0        NEAR BAY  \n",
       "4       565.0       259.0         3.8462            342200.0        NEAR BAY  "
      ]
     },
     "execution_count": 70,
     "metadata": {},
     "output_type": "execute_result"
    }
   ],
   "source": [
    "df = pd.read_csv(\"datasets/housing/housing.csv\")\n",
    "df.head()"
   ]
  },
  {
   "cell_type": "markdown",
   "metadata": {},
   "source": [
    "### Label Encoder 'ocean_proximity'"
   ]
  },
  {
   "cell_type": "code",
   "execution_count": 71,
   "metadata": {},
   "outputs": [],
   "source": [
    "label = preprocessing.LabelEncoder()\n",
    "label.fit(['NEAR BAY', '<1H OCEAN', 'INLAND', 'NEAR OCEAN', 'ISLAND'])\n",
    "df['ocean_proximity'] = label.transform(df['ocean_proximity'])"
   ]
  },
  {
   "cell_type": "markdown",
   "metadata": {},
   "source": [
    "### Fill NA 'total bedrooms'  "
   ]
  },
  {
   "cell_type": "code",
   "execution_count": 72,
   "metadata": {
    "scrolled": true
   },
   "outputs": [],
   "source": [
    "median = df[\"total_bedrooms\"].median()\n",
    "df[\"total_bedrooms\"].fillna(median, inplace = True)"
   ]
  },
  {
   "cell_type": "markdown",
   "metadata": {},
   "source": [
    "### Features combination \n",
    "<blockquote>total_rooms / households => rooms_per_household<br>\n",
    "total_bedrooms / total_rooms => bedrooms_per_rooms<br>\n",
    "population / households => population_per_household</blockquote>"
   ]
  },
  {
   "cell_type": "code",
   "execution_count": 73,
   "metadata": {},
   "outputs": [],
   "source": [
    "df[\"rooms_per_household\"] = df[\"total_rooms\"] / df[\"households\"]\n",
    "df[\"bedrooms_per_rooms\"] = df[\"total_bedrooms\"] / df[\"total_rooms\"]\n",
    "df[\"population_per_household\"] = df[\"population\"] / df[\"households\"]\n"
   ]
  },
  {
   "cell_type": "markdown",
   "metadata": {},
   "source": [
    "### Get each feature"
   ]
  },
  {
   "cell_type": "code",
   "execution_count": 74,
   "metadata": {},
   "outputs": [],
   "source": [
    "house = df[\"households\"]\n",
    "houssing_median_age = df[\"housing_median_age\"]\n",
    "latitude = df[\"latitude\"]\n",
    "longitude = df[\"longitude\"]\n",
    "median_house_value = df[\"median_house_value\"]\n",
    "median_income = df[\"median_income\"]\n",
    "population = df[\"population\"]\n",
    "total_bedrooms = df[\"total_bedrooms\"]\n",
    "total_rooms = df[\"total_rooms\"]\n",
    "ocean_proximity = df[\"ocean_proximity\"]\n",
    "\n",
    "rooms_per_household = df['rooms_per_household']\n",
    "population_per_household = df['population_per_household']\n",
    "bedrooms_per_rooms = df['bedrooms_per_rooms']"
   ]
  },
  {
   "cell_type": "markdown",
   "metadata": {},
   "source": [
    "### Log transform :\n",
    "<blockquote>rooms_per_household<br>\n",
    "    population_per_household<br>\n",
    "    bedrooms_per_rooms<br>\n",
    "    total_rooms<br>\n",
    "    total_bedrooms<\\blockquote>"
   ]
  },
  {
   "cell_type": "code",
   "execution_count": 75,
   "metadata": {},
   "outputs": [],
   "source": [
    "df[\"rooms_per_household_log\"] = (rooms_per_household - rooms_per_household.min() + 1).transform(np.log)\n",
    "df[\"population_per_household_log\"] = (population_per_household  - population_per_household.min() + 1).transform(np.log)\n",
    "df[\"bedrooms_per_rooms_log\"] = (bedrooms_per_rooms   - bedrooms_per_rooms.min() + 1).transform(np.log)\n",
    "\n",
    "df = df.drop(['rooms_per_household','population_per_household','bedrooms_per_rooms'], axis =1)\n",
    "\n",
    "df[\"total_rooms_log\"] = (total_rooms - total_rooms.min() + 1).transform(np.log)\n",
    "df[\"total_bedrooms_log\"] = (total_bedrooms - total_bedrooms.min() + 1).transform(np.log)\n",
    "\n",
    "df = df.drop(['total_rooms', 'total_bedrooms','households', 'population'] , axis = 1)"
   ]
  },
  {
   "cell_type": "markdown",
   "metadata": {},
   "source": [
    "###  Drop outlier in 'housing_median_age' "
   ]
  },
  {
   "cell_type": "code",
   "execution_count": 76,
   "metadata": {},
   "outputs": [],
   "source": [
    "factor = 1\n",
    "upper_lim = df['housing_median_age'].mean () + df['housing_median_age'].std () * factor\n",
    "lower_lim = df['housing_median_age'].mean () - df['housing_median_age'].std () * factor\n",
    "\n",
    "df = df[(df['housing_median_age'] < upper_lim) & (df['housing_median_age'] > lower_lim)]\n"
   ]
  },
  {
   "cell_type": "markdown",
   "metadata": {},
   "source": [
    "### Train, Valid, Test split"
   ]
  },
  {
   "cell_type": "code",
   "execution_count": 77,
   "metadata": {},
   "outputs": [
    {
     "name": "stdout",
     "output_type": "stream",
     "text": [
      "<class 'pandas.core.frame.DataFrame'>\n",
      "Int64Index: 13000 entries, 0 to 20638\n",
      "Data columns (total 11 columns):\n",
      " #   Column                        Non-Null Count  Dtype  \n",
      "---  ------                        --------------  -----  \n",
      " 0   longitude                     13000 non-null  float64\n",
      " 1   latitude                      13000 non-null  float64\n",
      " 2   housing_median_age            13000 non-null  float64\n",
      " 3   median_income                 13000 non-null  float64\n",
      " 4   median_house_value            13000 non-null  float64\n",
      " 5   ocean_proximity               13000 non-null  int32  \n",
      " 6   rooms_per_household_log       13000 non-null  float64\n",
      " 7   population_per_household_log  13000 non-null  float64\n",
      " 8   bedrooms_per_rooms_log        13000 non-null  float64\n",
      " 9   total_rooms_log               13000 non-null  float64\n",
      " 10  total_bedrooms_log            13000 non-null  float64\n",
      "dtypes: float64(10), int32(1)\n",
      "memory usage: 1.1 MB\n"
     ]
    }
   ],
   "source": [
    "df.info()"
   ]
  },
  {
   "cell_type": "code",
   "execution_count": 78,
   "metadata": {},
   "outputs": [],
   "source": [
    "train_va, test = train_test_split(df, test_size = 0.2, random_state = 0)\n",
    "train, valid = train_test_split(train_va,test_size = 0.25,random_state = 0)"
   ]
  },
  {
   "cell_type": "code",
   "execution_count": 79,
   "metadata": {},
   "outputs": [],
   "source": [
    "x_train = np.asanyarray(train_va.drop(['median_house_value'], axis = 1))\n",
    "y_train = np.asanyarray(train_va[\"median_house_value\"])\n",
    "\n",
    "x_test =  np.asanyarray(test.drop(['median_house_value'],axis=1))\n",
    "y_test = np.asanyarray(test['median_house_value'])\n",
    "\n",
    "x_valid =  np.asanyarray(valid.drop(['median_house_value'],axis=1))\n",
    "y_valid = np.asanyarray(valid['median_house_value'])"
   ]
  },
  {
   "cell_type": "markdown",
   "metadata": {},
   "source": [
    "### Fit LR model"
   ]
  },
  {
   "cell_type": "code",
   "execution_count": 80,
   "metadata": {},
   "outputs": [
    {
     "data": {
      "text/plain": [
       "LinearRegression()"
      ]
     },
     "execution_count": 80,
     "metadata": {},
     "output_type": "execute_result"
    }
   ],
   "source": [
    "regr = LinearRegression()\n",
    "regr.fit(x_train, y_train)"
   ]
  },
  {
   "cell_type": "markdown",
   "metadata": {},
   "source": [
    "### Coef && Intercept "
   ]
  },
  {
   "cell_type": "code",
   "execution_count": 81,
   "metadata": {},
   "outputs": [
    {
     "name": "stdout",
     "output_type": "stream",
     "text": [
      "Coeficients:  [ -42569.25388531  -43600.99499269     678.37340855   43707.03159289\n",
      "   -2093.40606215   35425.25293151 -119824.86737315  171235.94703467\n",
      "  -62870.37631391   68531.02873544]\n",
      "Intercept:  -3399667.813024145\n"
     ]
    }
   ],
   "source": [
    "print ('Coeficients: ',regr.coef_)\n",
    "print( 'Intercept: ', regr.intercept_)"
   ]
  },
  {
   "cell_type": "markdown",
   "metadata": {},
   "source": [
    "### Predict "
   ]
  },
  {
   "cell_type": "code",
   "execution_count": 82,
   "metadata": {},
   "outputs": [],
   "source": [
    "yhat = regr.predict(x_test)"
   ]
  },
  {
   "cell_type": "markdown",
   "metadata": {},
   "source": [
    "### Mean squared error "
   ]
  },
  {
   "cell_type": "markdown",
   "metadata": {},
   "source": []
  },
  {
   "cell_type": "code",
   "execution_count": 83,
   "metadata": {},
   "outputs": [
    {
     "data": {
      "text/plain": [
       "62874.735484446115"
      ]
     },
     "execution_count": 83,
     "metadata": {},
     "output_type": "execute_result"
    }
   ],
   "source": [
    "evaluation = mean_squared_error(y_test,yhat)\n",
    "evaluation_sq = np.sqrt(evaluation)\n",
    "evaluation_sq"
   ]
  },
  {
   "cell_type": "markdown",
   "metadata": {},
   "source": [
    "### Raw notes"
   ]
  },
  {
   "cell_type": "markdown",
   "metadata": {},
   "source": [
    "### df_3\n",
    "#### 67923.49829006246\n",
    "<pre>\n",
    "    Column                        Non-Null Count  Dtype\n",
    "    ---  ------                        --------------  -----  \n",
    "    0   longitude                     20640 non-null  float64\n",
    "    1   latitude                      20640 non-null  float64\n",
    "    2   housing_median_age            20640 non-null  float64\n",
    "    3   median_income                 20640 non-null  float64\n",
    "    4   median_house_value            20640 non-null  float64\n",
    "    5   ocean_proximity               20640 non-null  int32  \n",
    "    6   rooms_per_household_log       20640 non-null  float64\n",
    "    7   population_per_household_log  20640 non-null  float64\n",
    "    8   bedrooms_per_rooms_log        20640 non-null  float64\n",
    "</pre>\n",
    "\n",
    "### df_4\n",
    "#### 67628.67870921799\n",
    "<pre>\n",
    "    Column                        Non-Null Count  Dtype  \n",
    "    ---  ------                        --------------  -----  \n",
    "     0   longitude                     20640 non-null  float64\n",
    "     1   latitude                      20640 non-null  float64\n",
    "     2   housing_median_age            20640 non-null  float64\n",
    "     3   households                    20640 non-null  float64\n",
    "     4   median_income                 20640 non-null  float64\n",
    "     5   median_house_value            20640 non-null  float64\n",
    "     6   ocean_proximity               20640 non-null  int32  \n",
    "     7   rooms_per_household_log       20640 non-null  float64\n",
    "     8   population_per_household_log  20640 non-null  float64\n",
    "     9   bedrooms_per_rooms_log        20640 non-null  float64\n",
    "</pre>\n",
    "### df_5 \n",
    "#### 67597.65201828879\n",
    "<pre>\n",
    "       Column                        Non-Null Count  Dtype  \n",
    "    ---  ------                        --------------  -----  \n",
    "     0   longitude                     20640 non-null  float64\n",
    "     1   latitude                      20640 non-null  float64\n",
    "     2   housing_median_age            20640 non-null  float64\n",
    "     3   total_rooms                   20640 non-null  float64\n",
    "     4   total_bedrooms                20640 non-null  float64\n",
    "     5   households                    20640 non-null  float64\n",
    "     6   median_income                 20640 non-null  float64\n",
    "     7   median_house_value            20640 non-null  float64\n",
    "     8   ocean_proximity               20640 non-null  int32  \n",
    "     9   rooms_per_household_log       20640 non-null  float64\n",
    "     10  population_per_household_log  20640 non-null  float64\n",
    "     11  bedrooms_per_rooms_log        20640 non-null  float64\n",
    "</pre>\n",
    "### df_6\n",
    "#### 67547.34811205833\n",
    "<pre>\n",
    "        Column                        Non-Null Count  Dtype  \n",
    "    ---  ------                        --------------  -----  \n",
    "     0   longitude                     20640 non-null  float64\n",
    "     1   latitude                      20640 non-null  float64\n",
    "     2   housing_median_age            20640 non-null  float64\n",
    "     3   households                    20640 non-null  float64\n",
    "     4   median_income                 20640 non-null  float64\n",
    "     5   median_house_value            20640 non-null  float64\n",
    "     6   ocean_proximity               20640 non-null  int32  \n",
    "     7   rooms_per_household_log       20640 non-null  float64\n",
    "     8   population_per_household_log  20640 non-null  float64\n",
    "     9   bedrooms_per_rooms_log        20640 non-null  float64\n",
    "     10  total_rooms_log               20640 non-null  float64\n",
    "     11  total_bedrooms_log            20640 non-null  float64\n",
    " </pre>\n",
    "#### 63153.33311985455\n",
    "<pre>\n",
    "     0   longitude                     11702 non-null  float64\n",
    "     1   latitude                      11702 non-null  float64\n",
    "     2   housing_median_age            11702 non-null  float64\n",
    "     3   population                    11702 non-null  float64\n",
    "     4   households                    11702 non-null  float64\n",
    "     5   median_income                 11702 non-null  float64\n",
    "     6   median_house_value            11702 non-null  float64\n",
    "     7   ocean_proximity               11702 non-null  int32  \n",
    "     8   rooms_per_household_log       11702 non-null  float64\n",
    "     9   population_per_household_log  11702 non-null  float64\n",
    "     10  bedrooms_per_rooms_log        11702 non-null  float64\n",
    "     11  total_rooms_log               11702 non-null  float64\n",
    "     12  total_bedrooms_log            11702 non-null  float64\n",
    "     xu ly outlier housing_median_age - drop\n",
    "</pre>"
   ]
  },
  {
   "cell_type": "code",
   "execution_count": null,
   "metadata": {},
   "outputs": [],
   "source": []
  }
 ],
 "metadata": {
  "kernelspec": {
   "display_name": "Python 3",
   "language": "python",
   "name": "python3"
  },
  "language_info": {
   "codemirror_mode": {
    "name": "ipython",
    "version": 3
   },
   "file_extension": ".py",
   "mimetype": "text/x-python",
   "name": "python",
   "nbconvert_exporter": "python",
   "pygments_lexer": "ipython3",
   "version": "3.7.7"
  }
 },
 "nbformat": 4,
 "nbformat_minor": 4
}
